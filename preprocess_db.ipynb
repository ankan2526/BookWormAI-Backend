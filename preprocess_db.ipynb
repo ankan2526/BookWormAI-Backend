{
 "cells": [
  {
   "cell_type": "code",
   "execution_count": 1,
   "metadata": {},
   "outputs": [
    {
     "name": "stdout",
     "output_type": "stream",
     "text": [
      "Collecting kagglehub\n",
      "  Downloading kagglehub-0.3.7-py3-none-any.whl.metadata (30 kB)\n",
      "Collecting model-signing (from kagglehub)\n",
      "  Downloading model_signing-0.2.0-py3-none-any.whl.metadata (26 kB)\n",
      "Requirement already satisfied: packaging in /Library/Frameworks/Python.framework/Versions/3.12/lib/python3.12/site-packages (from kagglehub) (23.2)\n",
      "Requirement already satisfied: requests in /Library/Frameworks/Python.framework/Versions/3.12/lib/python3.12/site-packages (from kagglehub) (2.32.2)\n",
      "Requirement already satisfied: tqdm in /Library/Frameworks/Python.framework/Versions/3.12/lib/python3.12/site-packages (from kagglehub) (4.66.4)\n",
      "Collecting cryptography (from model-signing->kagglehub)\n",
      "  Downloading cryptography-44.0.1-cp39-abi3-macosx_10_9_universal2.whl.metadata (5.7 kB)\n",
      "Collecting in-toto-attestation (from model-signing->kagglehub)\n",
      "  Downloading in_toto_attestation-0.9.3-py3-none-any.whl.metadata (2.6 kB)\n",
      "Collecting sigstore (from model-signing->kagglehub)\n",
      "  Downloading sigstore-3.6.1-py3-none-any.whl.metadata (15 kB)\n",
      "Requirement already satisfied: typing-extensions in /Library/Frameworks/Python.framework/Versions/3.12/lib/python3.12/site-packages (from model-signing->kagglehub) (4.12.0)\n",
      "Requirement already satisfied: charset-normalizer<4,>=2 in /Library/Frameworks/Python.framework/Versions/3.12/lib/python3.12/site-packages (from requests->kagglehub) (3.3.2)\n",
      "Requirement already satisfied: idna<4,>=2.5 in /Library/Frameworks/Python.framework/Versions/3.12/lib/python3.12/site-packages (from requests->kagglehub) (3.7)\n",
      "Requirement already satisfied: urllib3<3,>=1.21.1 in /Library/Frameworks/Python.framework/Versions/3.12/lib/python3.12/site-packages (from requests->kagglehub) (2.2.1)\n",
      "Requirement already satisfied: certifi>=2017.4.17 in /Library/Frameworks/Python.framework/Versions/3.12/lib/python3.12/site-packages (from requests->kagglehub) (2024.2.2)\n",
      "Collecting cffi>=1.12 (from cryptography->model-signing->kagglehub)\n",
      "  Downloading cffi-1.17.1-cp312-cp312-macosx_11_0_arm64.whl.metadata (1.5 kB)\n",
      "Requirement already satisfied: protobuf in /Library/Frameworks/Python.framework/Versions/3.12/lib/python3.12/site-packages (from in-toto-attestation->model-signing->kagglehub) (4.25.3)\n",
      "Collecting id>=1.1.0 (from sigstore->model-signing->kagglehub)\n",
      "  Downloading id-1.5.0-py3-none-any.whl.metadata (5.2 kB)\n",
      "Requirement already satisfied: pyasn1~=0.6 in /Library/Frameworks/Python.framework/Versions/3.12/lib/python3.12/site-packages (from sigstore->model-signing->kagglehub) (0.6.0)\n",
      "Requirement already satisfied: pydantic<3,>=2 in /Library/Frameworks/Python.framework/Versions/3.12/lib/python3.12/site-packages (from sigstore->model-signing->kagglehub) (2.7.1)\n",
      "Collecting pyjwt>=2.1 (from sigstore->model-signing->kagglehub)\n",
      "  Downloading PyJWT-2.10.1-py3-none-any.whl.metadata (4.0 kB)\n",
      "Collecting pyOpenSSL>=23.0.0 (from sigstore->model-signing->kagglehub)\n",
      "  Downloading pyOpenSSL-25.0.0-py3-none-any.whl.metadata (16 kB)\n",
      "Requirement already satisfied: rich~=13.0 in /Library/Frameworks/Python.framework/Versions/3.12/lib/python3.12/site-packages (from sigstore->model-signing->kagglehub) (13.7.1)\n",
      "Collecting rfc8785~=0.1.2 (from sigstore->model-signing->kagglehub)\n",
      "  Downloading rfc8785-0.1.4-py3-none-any.whl.metadata (3.4 kB)\n",
      "Collecting rfc3161-client~=0.1.2 (from sigstore->model-signing->kagglehub)\n",
      "  Downloading rfc3161_client-0.1.2-cp39-abi3-macosx_11_0_arm64.whl.metadata (3.0 kB)\n",
      "Collecting sigstore-protobuf-specs==0.3.2 (from sigstore->model-signing->kagglehub)\n",
      "  Downloading sigstore_protobuf_specs-0.3.2-py3-none-any.whl.metadata (1.4 kB)\n",
      "Collecting sigstore-rekor-types==0.0.18 (from sigstore->model-signing->kagglehub)\n",
      "  Downloading sigstore_rekor_types-0.0.18-py3-none-any.whl.metadata (13 kB)\n",
      "Collecting tuf~=5.0 (from sigstore->model-signing->kagglehub)\n",
      "  Downloading tuf-5.1.0-py3-none-any.whl.metadata (7.9 kB)\n",
      "Requirement already satisfied: platformdirs~=4.2 in /Users/ankanmahapatra/Library/Python/3.12/lib/python/site-packages (from sigstore->model-signing->kagglehub) (4.2.2)\n",
      "Collecting betterproto==2.0.0b6 (from sigstore-protobuf-specs==0.3.2->sigstore->model-signing->kagglehub)\n",
      "  Downloading betterproto-2.0.0b6-py3-none-any.whl.metadata (17 kB)\n",
      "Collecting grpclib<0.5.0,>=0.4.1 (from betterproto==2.0.0b6->sigstore-protobuf-specs==0.3.2->sigstore->model-signing->kagglehub)\n",
      "  Downloading grpclib-0.4.7.tar.gz (61 kB)\n",
      "\u001b[2K     \u001b[90m━━━━━━━━━━━━━━━━━━━━━━━━━━━━━━━━━━━━━━━\u001b[0m \u001b[32m61.3/61.3 kB\u001b[0m \u001b[31m638.7 kB/s\u001b[0m eta \u001b[36m0:00:00\u001b[0ma \u001b[36m0:00:01\u001b[0m\n",
      "\u001b[?25h  Installing build dependencies ... \u001b[?25ldone\n",
      "\u001b[?25h  Getting requirements to build wheel ... \u001b[?25ldone\n",
      "\u001b[?25h  Preparing metadata (pyproject.toml) ... \u001b[?25ldone\n",
      "\u001b[?25hRequirement already satisfied: python-dateutil<3.0,>=2.8 in /Users/ankanmahapatra/Library/Python/3.12/lib/python/site-packages (from betterproto==2.0.0b6->sigstore-protobuf-specs==0.3.2->sigstore->model-signing->kagglehub) (2.9.0.post0)\n",
      "Collecting pycparser (from cffi>=1.12->cryptography->model-signing->kagglehub)\n",
      "  Downloading pycparser-2.22-py3-none-any.whl.metadata (943 bytes)\n",
      "Requirement already satisfied: annotated-types>=0.4.0 in /Library/Frameworks/Python.framework/Versions/3.12/lib/python3.12/site-packages (from pydantic<3,>=2->sigstore->model-signing->kagglehub) (0.7.0)\n",
      "Requirement already satisfied: pydantic-core==2.18.2 in /Library/Frameworks/Python.framework/Versions/3.12/lib/python3.12/site-packages (from pydantic<3,>=2->sigstore->model-signing->kagglehub) (2.18.2)\n",
      "Requirement already satisfied: markdown-it-py>=2.2.0 in /Library/Frameworks/Python.framework/Versions/3.12/lib/python3.12/site-packages (from rich~=13.0->sigstore->model-signing->kagglehub) (3.0.0)\n",
      "Requirement already satisfied: pygments<3.0.0,>=2.13.0 in /Users/ankanmahapatra/Library/Python/3.12/lib/python/site-packages (from rich~=13.0->sigstore->model-signing->kagglehub) (2.18.0)\n",
      "Collecting securesystemslib~=1.0 (from tuf~=5.0->sigstore->model-signing->kagglehub)\n",
      "  Downloading securesystemslib-1.2.0-py3-none-any.whl.metadata (4.8 kB)\n",
      "Requirement already satisfied: mdurl~=0.1 in /Library/Frameworks/Python.framework/Versions/3.12/lib/python3.12/site-packages (from markdown-it-py>=2.2.0->rich~=13.0->sigstore->model-signing->kagglehub) (0.1.2)\n",
      "Requirement already satisfied: email-validator>=2.0.0 in /Library/Frameworks/Python.framework/Versions/3.12/lib/python3.12/site-packages (from pydantic[email]<3,>=2->sigstore-rekor-types==0.0.18->sigstore->model-signing->kagglehub) (2.1.1)\n",
      "Requirement already satisfied: dnspython>=2.0.0 in /Library/Frameworks/Python.framework/Versions/3.12/lib/python3.12/site-packages (from email-validator>=2.0.0->pydantic[email]<3,>=2->sigstore-rekor-types==0.0.18->sigstore->model-signing->kagglehub) (2.6.1)\n",
      "Collecting h2<5,>=3.1.0 (from grpclib<0.5.0,>=0.4.1->betterproto==2.0.0b6->sigstore-protobuf-specs==0.3.2->sigstore->model-signing->kagglehub)\n",
      "  Downloading h2-4.2.0-py3-none-any.whl.metadata (5.1 kB)\n",
      "Requirement already satisfied: multidict in /Library/Frameworks/Python.framework/Versions/3.12/lib/python3.12/site-packages (from grpclib<0.5.0,>=0.4.1->betterproto==2.0.0b6->sigstore-protobuf-specs==0.3.2->sigstore->model-signing->kagglehub) (6.0.5)\n",
      "Requirement already satisfied: six>=1.5 in /Users/ankanmahapatra/Library/Python/3.12/lib/python/site-packages (from python-dateutil<3.0,>=2.8->betterproto==2.0.0b6->sigstore-protobuf-specs==0.3.2->sigstore->model-signing->kagglehub) (1.16.0)\n",
      "Collecting hyperframe<7,>=6.1 (from h2<5,>=3.1.0->grpclib<0.5.0,>=0.4.1->betterproto==2.0.0b6->sigstore-protobuf-specs==0.3.2->sigstore->model-signing->kagglehub)\n",
      "  Downloading hyperframe-6.1.0-py3-none-any.whl.metadata (4.3 kB)\n",
      "Collecting hpack<5,>=4.1 (from h2<5,>=3.1.0->grpclib<0.5.0,>=0.4.1->betterproto==2.0.0b6->sigstore-protobuf-specs==0.3.2->sigstore->model-signing->kagglehub)\n",
      "  Downloading hpack-4.1.0-py3-none-any.whl.metadata (4.6 kB)\n",
      "Downloading kagglehub-0.3.7-py3-none-any.whl (54 kB)\n",
      "\u001b[2K   \u001b[90m━━━━━━━━━━━━━━━━━━━━━━━━━━━━━━━━━━━━━━━━\u001b[0m \u001b[32m54.5/54.5 kB\u001b[0m \u001b[31m1.6 MB/s\u001b[0m eta \u001b[36m0:00:00\u001b[0m\n",
      "\u001b[?25hDownloading model_signing-0.2.0-py3-none-any.whl (63 kB)\n",
      "\u001b[2K   \u001b[90m━━━━━━━━━━━━━━━━━━━━━━━━━━━━━━━━━━━━━━━━\u001b[0m \u001b[32m63.8/63.8 kB\u001b[0m \u001b[31m3.2 MB/s\u001b[0m eta \u001b[36m0:00:00\u001b[0m\n",
      "\u001b[?25hDownloading cryptography-44.0.1-cp39-abi3-macosx_10_9_universal2.whl (6.6 MB)\n",
      "\u001b[2K   \u001b[90m━━━━━━━━━━━━━━━━━━━━━━━━━━━━━━━━━━━━━━━━\u001b[0m \u001b[32m6.6/6.6 MB\u001b[0m \u001b[31m2.7 MB/s\u001b[0m eta \u001b[36m0:00:00\u001b[0m00:01\u001b[0m00:01\u001b[0m\n",
      "\u001b[?25hDownloading in_toto_attestation-0.9.3-py3-none-any.whl (13 kB)\n",
      "Downloading sigstore-3.6.1-py3-none-any.whl (99 kB)\n",
      "\u001b[2K   \u001b[90m━━━━━━━━━━━━━━━━━━━━━━━━━━━━━━━━━━━━━━━━\u001b[0m \u001b[32m99.2/99.2 kB\u001b[0m \u001b[31m5.0 MB/s\u001b[0m eta \u001b[36m0:00:00\u001b[0m\n",
      "\u001b[?25hDownloading sigstore_protobuf_specs-0.3.2-py3-none-any.whl (24 kB)\n",
      "Downloading sigstore_rekor_types-0.0.18-py3-none-any.whl (20 kB)\n",
      "Downloading betterproto-2.0.0b6-py3-none-any.whl (64 kB)\n",
      "\u001b[2K   \u001b[90m━━━━━━━━━━━━━━━━━━━━━━━━━━━━━━━━━━━━━━━━\u001b[0m \u001b[32m64.3/64.3 kB\u001b[0m \u001b[31m3.7 MB/s\u001b[0m eta \u001b[36m0:00:00\u001b[0m\n",
      "\u001b[?25hDownloading cffi-1.17.1-cp312-cp312-macosx_11_0_arm64.whl (178 kB)\n",
      "\u001b[2K   \u001b[90m━━━━━━━━━━━━━━━━━━━━━━━━━━━━━━━━━━━━━━━━\u001b[0m \u001b[32m178.8/178.8 kB\u001b[0m \u001b[31m6.1 MB/s\u001b[0m eta \u001b[36m0:00:00\u001b[0m\n",
      "\u001b[?25hDownloading id-1.5.0-py3-none-any.whl (13 kB)\n",
      "Downloading PyJWT-2.10.1-py3-none-any.whl (22 kB)\n",
      "Downloading pyOpenSSL-25.0.0-py3-none-any.whl (56 kB)\n",
      "\u001b[2K   \u001b[90m━━━━━━━━━━━━━━━━━━━━━━━━━━━━━━━━━━━━━━━━\u001b[0m \u001b[32m56.5/56.5 kB\u001b[0m \u001b[31m6.4 MB/s\u001b[0m eta \u001b[36m0:00:00\u001b[0m\n",
      "\u001b[?25hDownloading rfc3161_client-0.1.2-cp39-abi3-macosx_11_0_arm64.whl (432 kB)\n",
      "\u001b[2K   \u001b[90m━━━━━━━━━━━━━━━━━━━━━━━━━━━━━━━━━━━━━━━━\u001b[0m \u001b[32m432.6/432.6 kB\u001b[0m \u001b[31m2.9 MB/s\u001b[0m eta \u001b[36m0:00:00\u001b[0m00:01\u001b[0m00:01\u001b[0m\n",
      "\u001b[?25hDownloading rfc8785-0.1.4-py3-none-any.whl (9.2 kB)\n",
      "Downloading tuf-5.1.0-py3-none-any.whl (50 kB)\n",
      "\u001b[2K   \u001b[90m━━━━━━━━━━━━━━━━━━━━━━━━━━━━━━━━━━━━━━━━\u001b[0m \u001b[32m50.8/50.8 kB\u001b[0m \u001b[31m4.3 MB/s\u001b[0m eta \u001b[36m0:00:00\u001b[0m\n",
      "\u001b[?25hDownloading securesystemslib-1.2.0-py3-none-any.whl (870 kB)\n",
      "\u001b[2K   \u001b[90m━━━━━━━━━━━━━━━━━━━━━━━━━━━━━━━━━━━━━━━━\u001b[0m \u001b[32m870.8/870.8 kB\u001b[0m \u001b[31m3.1 MB/s\u001b[0m eta \u001b[36m0:00:00\u001b[0ma \u001b[36m0:00:01\u001b[0m\n",
      "\u001b[?25hDownloading pycparser-2.22-py3-none-any.whl (117 kB)\n",
      "\u001b[2K   \u001b[90m━━━━━━━━━━━━━━━━━━━━━━━━━━━━━━━━━━━━━━━━\u001b[0m \u001b[32m117.6/117.6 kB\u001b[0m \u001b[31m5.4 MB/s\u001b[0m eta \u001b[36m0:00:00\u001b[0m\n",
      "\u001b[?25hDownloading h2-4.2.0-py3-none-any.whl (60 kB)\n",
      "\u001b[2K   \u001b[90m━━━━━━━━━━━━━━━━━━━━━━━━━━━━━━━━━━━━━━━━\u001b[0m \u001b[32m61.0/61.0 kB\u001b[0m \u001b[31m3.9 MB/s\u001b[0m eta \u001b[36m0:00:00\u001b[0m\n",
      "\u001b[?25hDownloading hpack-4.1.0-py3-none-any.whl (34 kB)\n",
      "Downloading hyperframe-6.1.0-py3-none-any.whl (13 kB)\n",
      "Building wheels for collected packages: grpclib\n",
      "  Building wheel for grpclib (pyproject.toml) ... \u001b[?25ldone\n",
      "\u001b[?25h  Created wheel for grpclib: filename=grpclib-0.4.7-py3-none-any.whl size=76229 sha256=d04b7d67fb144e4b9404eb76628aabf3ed4f89ec16291088202e1fd1cd53aaf9\n",
      "  Stored in directory: /Users/ankanmahapatra/Library/Caches/pip/wheels/2f/c3/8a/5d9ac03578acaa3fcb488bab3f5e6664594ca88dd8f5494ee9\n",
      "Successfully built grpclib\n",
      "Installing collected packages: securesystemslib, rfc8785, pyjwt, pycparser, in-toto-attestation, hyperframe, hpack, tuf, id, h2, cffi, grpclib, cryptography, sigstore-rekor-types, rfc3161-client, pyOpenSSL, betterproto, sigstore-protobuf-specs, sigstore, model-signing, kagglehub\n",
      "Successfully installed betterproto-2.0.0b6 cffi-1.17.1 cryptography-44.0.1 grpclib-0.4.7 h2-4.2.0 hpack-4.1.0 hyperframe-6.1.0 id-1.5.0 in-toto-attestation-0.9.3 kagglehub-0.3.7 model-signing-0.2.0 pyOpenSSL-25.0.0 pycparser-2.22 pyjwt-2.10.1 rfc3161-client-0.1.2 rfc8785-0.1.4 securesystemslib-1.2.0 sigstore-3.6.1 sigstore-protobuf-specs-0.3.2 sigstore-rekor-types-0.0.18 tuf-5.1.0\n",
      "\n",
      "\u001b[1m[\u001b[0m\u001b[34;49mnotice\u001b[0m\u001b[1;39;49m]\u001b[0m\u001b[39;49m A new release of pip is available: \u001b[0m\u001b[31;49m24.1.1\u001b[0m\u001b[39;49m -> \u001b[0m\u001b[32;49m25.0.1\u001b[0m\n",
      "\u001b[1m[\u001b[0m\u001b[34;49mnotice\u001b[0m\u001b[1;39;49m]\u001b[0m\u001b[39;49m To update, run: \u001b[0m\u001b[32;49mpip install --upgrade pip\u001b[0m\n",
      "Note: you may need to restart the kernel to use updated packages.\n"
     ]
    }
   ],
   "source": [
    "%pip install kagglehub"
   ]
  },
  {
   "cell_type": "markdown",
   "metadata": {},
   "source": [
    "## Downloading Dataset"
   ]
  },
  {
   "cell_type": "code",
   "execution_count": 1,
   "metadata": {},
   "outputs": [
    {
     "name": "stderr",
     "output_type": "stream",
     "text": [
      "/Library/Frameworks/Python.framework/Versions/3.12/lib/python3.12/site-packages/tqdm/auto.py:21: TqdmWarning: IProgress not found. Please update jupyter and ipywidgets. See https://ipywidgets.readthedocs.io/en/stable/user_install.html\n",
      "  from .autonotebook import tqdm as notebook_tqdm\n"
     ]
    },
    {
     "name": "stdout",
     "output_type": "stream",
     "text": [
      "Warning: Looks like you're using an outdated `kagglehub` version (installed: 0.3.7), please consider upgrading to the latest version (0.3.8).\n",
      "Path to dataset files: /Users/ankanmahapatra/.cache/kagglehub/datasets/saurabhbagchi/books-dataset/versions/1\n"
     ]
    }
   ],
   "source": [
    "import kagglehub\n",
    "\n",
    "# Download latest version\n",
    "path = kagglehub.dataset_download(\"saurabhbagchi/books-dataset\")\n",
    "\n",
    "print(\"Path to dataset files:\", path)"
   ]
  },
  {
   "cell_type": "code",
   "execution_count": 2,
   "metadata": {},
   "outputs": [
    {
     "data": {
      "text/plain": [
       "['users.csv', 'ratings.csv', 'books.csv']"
      ]
     },
     "execution_count": 2,
     "metadata": {},
     "output_type": "execute_result"
    }
   ],
   "source": [
    "## Show the dataset files\n",
    "\n",
    "import os\n",
    "\n",
    "path += \"/books_data\"\n",
    "os.listdir(path)"
   ]
  },
  {
   "cell_type": "markdown",
   "metadata": {},
   "source": [
    "## Checking the csv file"
   ]
  },
  {
   "cell_type": "code",
   "execution_count": 3,
   "metadata": {},
   "outputs": [
    {
     "name": "stdout",
     "output_type": "stream",
     "text": [
      "\"ISBN\";\"Book-Title\";\"Book-Author\";\"Year-Of-Publication\";\"Publisher\";\"Image-URL-S\";\"Image-URL-M\";\"Image-URL-L\"\n",
      "\"0195153448\";\"Classical Mythology\";\"Mark P. O. Morford\";\"2002\";\"Oxford University Press\";\"http://images.amazon.com/images/P/0195153448.01.THUMBZZZ.jpg\";\"http://images.amazon.com/images/P/0195153448.01.MZZZZZZZ.jpg\";\"http://images.amazon.com/images/P/0195153448.01.LZZZZZZZ.jpg\"\n",
      "\"0002005018\";\"Clara Callan\";\"Richard Bruce Wright\";\"2001\";\"HarperFlamingo Canada\";\"http://images.amazon.com/images/P/0002005018.01.THUMBZZZ.jpg\";\"http://images.amazon.com/images/P/0002005018.01.MZZZZZZZ.jpg\";\"http://images.amazon.com/images/P/0002005018.01.LZZZZZZZ.jpg\"\n",
      "\"0060973129\";\"Decision in Normandy\";\"Carlo D'Este\";\"1991\";\"HarperPerennial\";\"http://images.amazon.com/images/P/0060973129.01.THUMBZZZ.jpg\";\"http://images.amazon.com/images/P/0060973129.01.MZZZZZZZ.jpg\";\"http://images.amazon.com/images/P/0060973129.01.LZZZZZZZ.jpg\"\n",
      "\"0374157065\";\"Flu: The Story of the Great Influenza Pandemic of 1918 and the\n"
     ]
    }
   ],
   "source": [
    "with open(path + \"/books.csv\", errors=\"ignore\") as f:\n",
    "    print(f.read()[:1000])"
   ]
  },
  {
   "cell_type": "markdown",
   "metadata": {},
   "source": [
    "## Loading CSV into Dataframe, finally saving it into SQLite DB"
   ]
  },
  {
   "cell_type": "code",
   "execution_count": 24,
   "metadata": {},
   "outputs": [
    {
     "name": "stdout",
     "output_type": "stream",
     "text": [
      "Collecting chardet\n",
      "  Downloading chardet-5.2.0-py3-none-any.whl.metadata (3.4 kB)\n",
      "Downloading chardet-5.2.0-py3-none-any.whl (199 kB)\n",
      "\u001b[2K   \u001b[90m━━━━━━━━━━━━━━━━━━━━━━━━━━━━━━━━━━━━━━━━\u001b[0m \u001b[32m199.4/199.4 kB\u001b[0m \u001b[31m1.1 MB/s\u001b[0m eta \u001b[36m0:00:00\u001b[0mta \u001b[36m0:00:01\u001b[0m\n",
      "\u001b[?25hInstalling collected packages: chardet\n",
      "Successfully installed chardet-5.2.0\n",
      "\n",
      "\u001b[1m[\u001b[0m\u001b[34;49mnotice\u001b[0m\u001b[1;39;49m]\u001b[0m\u001b[39;49m A new release of pip is available: \u001b[0m\u001b[31;49m24.1.1\u001b[0m\u001b[39;49m -> \u001b[0m\u001b[32;49m25.0.1\u001b[0m\n",
      "\u001b[1m[\u001b[0m\u001b[34;49mnotice\u001b[0m\u001b[1;39;49m]\u001b[0m\u001b[39;49m To update, run: \u001b[0m\u001b[32;49mpip install --upgrade pip\u001b[0m\n",
      "Note: you may need to restart the kernel to use updated packages.\n"
     ]
    }
   ],
   "source": [
    "%pip install chardet"
   ]
  },
  {
   "cell_type": "code",
   "execution_count": 5,
   "metadata": {},
   "outputs": [],
   "source": [
    "import chardet\n",
    "\n",
    "with open(path + \"/books.csv\", \"rb\") as f:\n",
    "    raw_data = f.read()\n",
    "    detected = chardet.detect(raw_data)\n",
    "    encoding = detected[\"encoding\"]"
   ]
  },
  {
   "cell_type": "code",
   "execution_count": 6,
   "metadata": {},
   "outputs": [
    {
     "data": {
      "text/plain": [
       "'ISO-8859-1'"
      ]
     },
     "execution_count": 6,
     "metadata": {},
     "output_type": "execute_result"
    }
   ],
   "source": [
    "encoding"
   ]
  },
  {
   "cell_type": "code",
   "execution_count": 7,
   "metadata": {},
   "outputs": [
    {
     "name": "stderr",
     "output_type": "stream",
     "text": [
      "/var/folders/w2/qfwv8k7j63b5gvsyfr80f6xw0000gn/T/ipykernel_18208/1000044441.py:5: DtypeWarning: Columns (3) have mixed types. Specify dtype option on import or set low_memory=False.\n",
      "  df = pd.read_csv(path + \"/books.csv\", encoding=encoding, delimiter=\";\", on_bad_lines=\"skip\")\n"
     ]
    },
    {
     "name": "stdout",
     "output_type": "stream",
     "text": [
      "CSV file successfully converted to SQLite table!\n"
     ]
    }
   ],
   "source": [
    "import pandas as pd\n",
    "import sqlite3\n",
    "\n",
    "# Load CSV file into a DataFrame\n",
    "df = pd.read_csv(path + \"/books.csv\", encoding=encoding, delimiter=\";\", on_bad_lines=\"skip\")\n",
    "\n",
    "# Connect to SQLite database (or create one)\n",
    "conn = sqlite3.connect(\"books.db\")\n",
    "\n",
    "# Write the DataFrame to an SQLite table\n",
    "df.to_sql(\"books\", conn, if_exists=\"replace\", index=False)\n",
    "\n",
    "# Close the connection\n",
    "conn.close()\n",
    "\n",
    "print(\"CSV file successfully converted to SQLite table!\")\n"
   ]
  },
  {
   "cell_type": "code",
   "execution_count": 8,
   "metadata": {},
   "outputs": [
    {
     "data": {
      "text/plain": [
       "2170880"
      ]
     },
     "execution_count": 8,
     "metadata": {},
     "output_type": "execute_result"
    }
   ],
   "source": [
    "df.size"
   ]
  },
  {
   "cell_type": "markdown",
   "metadata": {},
   "source": [
    "## Checking if table is added into DB"
   ]
  },
  {
   "cell_type": "code",
   "execution_count": 9,
   "metadata": {},
   "outputs": [
    {
     "name": "stdout",
     "output_type": "stream",
     "text": [
      "('Classical Mythology',)\n",
      "('Clara Callan',)\n",
      "('Decision in Normandy',)\n",
      "('Flu: The Story of the Great Influenza Pandemic of 1918 and the Search for the Virus That Caused It',)\n",
      "('The Mummies of Urumchi',)\n",
      "(\"The Kitchen God's Wife\",)\n",
      "(\"What If?: The World's Foremost Military Historians Imagine What Might Have Been\",)\n",
      "('PLEADING GUILTY',)\n",
      "('Under the Black Flag: The Romance and the Reality of Life Among the Pirates',)\n",
      "(\"Where You'll Find Me: And Other Stories\",)\n",
      "('Nights Below Station Street',)\n",
      "(\"Hitler's Secret Bankers: The Myth of Swiss Neutrality During the Holocaust\",)\n",
      "('The Middle Stories',)\n",
      "('Jane Doe',)\n",
      "(\"A Second Chicken Soup for the Woman's Soul (Chicken Soup for the Soul Series)\",)\n",
      "('The Witchfinder (Amos Walker Mystery Series)',)\n",
      "('More Cunning Than Man: A Social History of Rats and Man',)\n",
      "('Goodbye to the Buttermilk Sky',)\n",
      "('The Testament',)\n",
      "('Beloved (Plume Contemporary Fiction)',)\n",
      "(\"Our Dumb Century: The Onion Presents 100 Years of Headlines from America's Finest News Source\",)\n",
      "('New Vegetarian: Bold and Beautiful Recipes for Every Occasion',)\n",
      "(\"If I'd Known Then What I Know Now: Why Not Learn from the Mistakes of Others? : You Can't Afford to Make Them All Yourself\",)\n",
      "('Mary-Kate &amp; Ashley Switching Goals (Mary-Kate and Ashley Starring in)',)\n",
      "(\"Tell Me This Isn't Happening\",)\n",
      "('Flood : Mississippi 1927',)\n",
      "('Wild Animus',)\n",
      "('Airframe',)\n",
      "('Timeline',)\n",
      "('OUT OF THE SILENT PLANET',)\n",
      "('Prague : A Novel',)\n",
      "('Chocolate Jesus',)\n",
      "('Wie Barney es sieht.',)\n",
      "('Der Fluch der Kaiserin. Ein Richter- Di- Roman.',)\n",
      "('Sturmzeit. Roman.',)\n",
      "('Tage der Unschuld.',)\n",
      "('Lying Awake',)\n",
      "('To Kill a Mockingbird',)\n",
      "('Seabiscuit: An American Legend',)\n",
      "('Pigs in Heaven',)\n",
      "(\"Miss Zukas and the Raven's Dance\",)\n",
      "('Pride and Prejudice',)\n",
      "('The Therapeutic Touch: How to Use Your Hands to Help or to Heal',)\n",
      "('Downtown',)\n",
      "('Icebound',)\n",
      "(\"I'll Be Seeing You\",)\n",
      "('From the Corner of His Eye',)\n",
      "('Isle of Dogs',)\n",
      "('Purity in Death',)\n",
      "('This Year It Will Be Different: And Other Stories',)\n",
      "('Proxies',)\n",
      "(\"Left Behind: A Novel of the Earth's Last Days (Left Behind #1)\",)\n",
      "('The Street Lawyer',)\n",
      "('Love, Medicine and Miracles',)\n",
      "(\"All the King's Men\",)\n",
      "('Pacific Northwest',)\n",
      "('A Soldier of the Great War',)\n",
      "('Getting Well Again',)\n",
      "('Northwest Wines and Wineries',)\n",
      "('An Atmosphere of Eternity: Stories of India',)\n",
      "('LONESOME DOVE',)\n",
      "('Shabanu: Daughter of the Wind (Border Trilogy)',)\n",
      "('Haveli (Laurel Leaf Books)',)\n",
      "('Lieux dits',)\n",
      "('The Dragons of Eden: Speculations on the Evolution of Human Intelligence',)\n",
      "('The yawning heights',)\n",
      "('Breathing Lessons',)\n",
      "('The Joy Luck Club',)\n",
      "('Heart of Darkness (Wordsworth Collection)',)\n",
      "('The Angel Is Near',)\n",
      "(\"Tess of the D'Urbervilles (Wordsworth Classics)\",)\n",
      "('The Adventures of Drew and Ellie: The Magical Dress',)\n",
      "('The Accidental Virgin',)\n",
      "('The Tao of Pooh',)\n",
      "('Seabiscuit',)\n",
      "('The Prince',)\n",
      "(\"Life's Little Instruction Book (Life's Little Instruction Books (Paperback))\",)\n",
      "('Starship Troopers',)\n",
      "('The Ruby in the Smoke (Sally Lockhart Trilogy, Book 1)',)\n",
      "('Black Beauty (Illustrated Classics)',)\n",
      "(\"Anil's Ghost\",)\n",
      "('Prescription for Terror',)\n",
      "('Modern Manners: An Etiquette Book for Rude People',)\n",
      "('Turning Thirty',)\n",
      "('Decipher',)\n",
      "('My First Cousin Once Removed: Money, Madness, and the Family of Robert Lowell',)\n",
      "('Standing Firm: A Vice-Presidential Memoir',)\n",
      "('Team Bush : Leadership Lessons from the Bush White House',)\n",
      "('The Right Man : The Surprise Presidency of George W. Bush',)\n",
      "('Daybreakers Louis Lamour Collection',)\n",
      "('The Catcher in the Rye',)\n",
      "('El Senor De Los Anillos: LA Comunidad Del Anillo (Lord of the Rings (Spanish))',)\n",
      "('El Senor De Los Anillos: Las DOS Torres (Lord of the Rings (Paperback))',)\n",
      "('El Senor De Los Anillos: El Retorno Del Rey (Tolkien, J. R. R. Lord of the Rings. 3.)',)\n",
      "('Midnight in the Garden of Good and Evil: A Savannah Story',)\n",
      "(\"Pretend You Don't See Her\",)\n",
      "('Fast Women',)\n",
      "('Female Intelligence',)\n",
      "(\"Pasquale's Nose: Idle Days in an Italian Town\",)\n",
      "('The Gospel of Judas: A Novel',)\n"
     ]
    }
   ],
   "source": [
    "import sqlite3\n",
    "\n",
    "conn = sqlite3.connect(\"books.db\")\n",
    "cursor = conn.cursor()\n",
    "cursor.execute(\"SELECT `Book-Title` FROM books LIMIT 100;\")\n",
    "rows = cursor.fetchall()\n",
    "\n",
    "for row in rows:\n",
    "    print(row)\n",
    "\n",
    "conn.close()"
   ]
  },
  {
   "cell_type": "markdown",
   "metadata": {},
   "source": [
    "## Testing basic queries"
   ]
  },
  {
   "cell_type": "code",
   "execution_count": 10,
   "metadata": {},
   "outputs": [
    {
     "name": "stdout",
     "output_type": "stream",
     "text": [
      "('0060175702', 'Empress of the Splendid Season', 'Oscar Hijuelos', '1999', 'HarperCollins Publishers', 'http://images.amazon.com/images/P/0060175702.01.THUMBZZZ.jpg', 'http://images.amazon.com/images/P/0060175702.01.MZZZZZZZ.jpg', 'http://images.amazon.com/images/P/0060175702.01.LZZZZZZZ.jpg')\n",
      "('0061014184', 'The Empress of the Splendid Season', 'Oscar Hijuelos', '1999', 'HarperCollins Publishers', 'http://images.amazon.com/images/P/0061014184.01.THUMBZZZ.jpg', 'http://images.amazon.com/images/P/0061014184.01.MZZZZZZZ.jpg', 'http://images.amazon.com/images/P/0061014184.01.LZZZZZZZ.jpg')\n",
      "('1582700494', 'Celebrating Time Alone: Stories of Splendid Solitude', 'Lionel Fisher', '2001', 'Beyond Words Publishing', 'http://images.amazon.com/images/P/1582700494.01.THUMBZZZ.jpg', 'http://images.amazon.com/images/P/1582700494.01.MZZZZZZZ.jpg', 'http://images.amazon.com/images/P/1582700494.01.LZZZZZZZ.jpg')\n",
      "('0060928700', 'Empress of the Splendid Season', 'Oscar Hijuelos', '2000', 'Perennial', 'http://images.amazon.com/images/P/0060928700.01.THUMBZZZ.jpg', 'http://images.amazon.com/images/P/0060928700.01.MZZZZZZZ.jpg', 'http://images.amazon.com/images/P/0060928700.01.LZZZZZZZ.jpg')\n",
      "('1564585077', 'Look &amp; Cook: Splendid Soups', 'Anne Willan', '1994', 'Dk Pub', 'http://images.amazon.com/images/P/1564585077.01.THUMBZZZ.jpg', 'http://images.amazon.com/images/P/1564585077.01.MZZZZZZZ.jpg', 'http://images.amazon.com/images/P/1564585077.01.LZZZZZZZ.jpg')\n",
      "('0694520349', 'Empress of the Splendid Season', 'Oscar Hijuelos', '1999', 'HarperCollins Publishers', 'http://images.amazon.com/images/P/0694520349.01.THUMBZZZ.jpg', 'http://images.amazon.com/images/P/0694520349.01.MZZZZZZZ.jpg', 'http://images.amazon.com/images/P/0694520349.01.LZZZZZZZ.jpg')\n",
      "('0304936561', 'The Shark: Splendid Savage of the Sea', 'Jacques-Yves Cousteau', '1970', 'Cassell', 'http://images.amazon.com/images/P/0304936561.01.THUMBZZZ.jpg', 'http://images.amazon.com/images/P/0304936561.01.MZZZZZZZ.jpg', 'http://images.amazon.com/images/P/0304936561.01.LZZZZZZZ.jpg')\n",
      "('0806931647', 'Splendid Samplers To Cross-Stitch: 35 Original Projects', 'Chris Rankin', '1995', 'Sterling Publishing', 'http://images.amazon.com/images/P/0806931647.01.THUMBZZZ.jpg', 'http://images.amazon.com/images/P/0806931647.01.MZZZZZZZ.jpg', 'http://images.amazon.com/images/P/0806931647.01.LZZZZZZZ.jpg')\n"
     ]
    }
   ],
   "source": [
    "## Search for Title\n",
    "import sqlite3\n",
    "\n",
    "conn = sqlite3.connect(\"books.db\")\n",
    "cursor = conn.cursor()\n",
    "\n",
    "cursor.execute(\"SELECT * FROM books WHERE `Book-Title` LIKE '%splendid s%' LIMIT 10;\")\n",
    "\n",
    "rows = cursor.fetchall()\n",
    "\n",
    "for row in rows:\n",
    "    print(row)\n",
    "\n",
    "conn.close()"
   ]
  },
  {
   "cell_type": "code",
   "execution_count": 11,
   "metadata": {},
   "outputs": [
    {
     "data": {
      "text/plain": [
       "'\\nCREATE TABLE books (\\n\\t\"ISBN\" TEXT, \\n\\t\"Book-Title\" TEXT, \\n\\t\"Book-Author\" TEXT, \\n\\t\"Year-Of-Publication\" TEXT, \\n\\t\"Publisher\" TEXT, \\n\\t\"Image-URL-S\" TEXT, \\n\\t\"Image-URL-M\" TEXT, \\n\\t\"Image-URL-L\" TEXT\\n)\\n\\n/*\\n3 rows from books table:\\nISBN\\tBook-Title\\tBook-Author\\tYear-Of-Publication\\tPublisher\\tImage-URL-S\\tImage-URL-M\\tImage-URL-L\\n0195153448\\tClassical Mythology\\tMark P. O. Morford\\t2002\\tOxford University Press\\thttp://images.amazon.com/images/P/0195153448.01.THUMBZZZ.jpg\\thttp://images.amazon.com/images/P/0195153448.01.MZZZZZZZ.jpg\\thttp://images.amazon.com/images/P/0195153448.01.LZZZZZZZ.jpg\\n0002005018\\tClara Callan\\tRichard Bruce Wright\\t2001\\tHarperFlamingo Canada\\thttp://images.amazon.com/images/P/0002005018.01.THUMBZZZ.jpg\\thttp://images.amazon.com/images/P/0002005018.01.MZZZZZZZ.jpg\\thttp://images.amazon.com/images/P/0002005018.01.LZZZZZZZ.jpg\\n0060973129\\tDecision in Normandy\\tCarlo D\\'Este\\t1991\\tHarperPerennial\\thttp://images.amazon.com/images/P/0060973129.01.THUMBZZZ.jpg\\thttp://images.amazon.com/images/P/0060973129.01.MZZZZZZZ.jpg\\thttp://images.amazon.com/images/P/0060973129.01.LZZZZZZZ.jpg\\n*/'"
      ]
     },
     "execution_count": 11,
     "metadata": {},
     "output_type": "execute_result"
    }
   ],
   "source": [
    "from langchain_community.utilities import SQLDatabase\n",
    "\n",
    "db = SQLDatabase.from_uri(\"sqlite:///books.db\")\n",
    "\n",
    "db.get_table_info()"
   ]
  },
  {
   "cell_type": "code",
   "execution_count": null,
   "metadata": {},
   "outputs": [],
   "source": []
  }
 ],
 "metadata": {
  "kernelspec": {
   "display_name": "Python 3",
   "language": "python",
   "name": "python3"
  },
  "language_info": {
   "codemirror_mode": {
    "name": "ipython",
    "version": 3
   },
   "file_extension": ".py",
   "mimetype": "text/x-python",
   "name": "python",
   "nbconvert_exporter": "python",
   "pygments_lexer": "ipython3",
   "version": "3.12.2"
  }
 },
 "nbformat": 4,
 "nbformat_minor": 2
}
